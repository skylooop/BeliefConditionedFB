{
 "cells": [
  {
   "cell_type": "code",
   "execution_count": 1,
   "metadata": {},
   "outputs": [],
   "source": [
    "# MISC\n",
    "import os\n",
    "import sys\n",
    "\n",
    "sys.path.append(\"..\")\n",
    "os.environ['MUJOCO_GL']='egl'\n",
    "os.environ['CUDA_VISIBLE_DEVICES']='0'\n",
    "\n",
    "# import shutup\n",
    "# shutup.please()\n",
    "\n",
    "import jax\n",
    "import jax.numpy as jnp\n",
    "\n",
    "import numpy as np\n",
    "from functools import partial\n",
    "\n",
    "# VIS\n",
    "import matplotlib.pyplot as plt\n",
    "import mediapy\n",
    "import scienceplots\n",
    "from rich.pretty import pprint\n",
    "from tqdm.auto import tqdm\n",
    "\n",
    "from utils.datasets import GCDataset\n",
    "from agents.dynamics_aware_iql import GCIQLAgent\n",
    "from hydra import initialize, compose\n",
    "from omegaconf import OmegaConf\n",
    "\n",
    "plt.style.use(['seaborn-v0_8-colorblind', 'seaborn-v0_8-notebook'])\n",
    "\n",
    "GLOBAL_KEY = jax.random.key(42)"
   ]
  },
  {
   "cell_type": "code",
   "execution_count": 2,
   "metadata": {},
   "outputs": [
    {
     "data": {
      "text/plain": [
       "(array([ 0.8407875 ,  1.0446167 , -0.06372512,  0.0610762 , -0.00720263,\n",
       "        -0.06552991, -0.07873831,  0.04110082, -0.08881806, -0.04805898,\n",
       "        -0.0475017 ,  0.09384032, -0.09080444,  0.21484635, -0.0908604 ,\n",
       "         0.01033072, -0.11167552,  0.01285597, -0.22223855, -0.06412087,\n",
       "        -0.08989524,  0.08733132, -0.07626024,  0.29255911, -0.06569624,\n",
       "        -0.01410481, -0.15665607,  0.        ,  0.        ,  0.        ,\n",
       "         0.        ,  0.        ,  0.        ,  0.        ,  0.        ,\n",
       "         0.        ,  0.        ,  0.        ,  0.        ,  0.        ,\n",
       "         0.        ,  0.        ,  0.        ,  0.        ,  0.        ,\n",
       "         0.        ,  0.        ,  0.        ,  0.        ,  0.        ,\n",
       "         0.        ,  0.        ,  0.        ,  0.        ,  0.        ,\n",
       "         0.        ,  0.        ,  0.        ,  0.        ,  0.        ,\n",
       "         0.        ,  0.        ,  0.        ,  0.        ,  0.        ,\n",
       "         0.        ,  0.        ,  0.        ,  0.        ,  0.        ,\n",
       "         0.        ,  0.        ,  0.        ,  0.        ,  0.        ,\n",
       "         0.        ,  0.        ,  0.        ,  0.        ,  0.        ,\n",
       "         0.        ,  0.        ,  0.        ,  0.        ,  0.        ,\n",
       "         0.        ,  0.        ,  0.        ,  0.        ,  0.        ,\n",
       "         0.        ,  0.        ,  0.        ,  0.        ,  0.        ,\n",
       "         0.        ,  0.        ,  0.        ,  0.        ,  0.        ,\n",
       "         0.        ,  0.        ,  0.        ,  0.        ,  0.        ]),\n",
       " {'x_position': np.float64(0.019006421423695324),\n",
       "  'y_position': np.float64(-0.05563896113957496),\n",
       "  'distance_from_origin': np.float64(0.05879573157999004)})"
      ]
     },
     "execution_count": 2,
     "metadata": {},
     "output_type": "execute_result"
    }
   ],
   "source": [
    "from gymnasium.envs.registration import register\n",
    "from envs.mujoco.online_env_utils import make_online_env\n",
    "from envs.mujoco.ant import AntEnv\n",
    "\n",
    "register(\n",
    "    id='myant',\n",
    "    entry_point=AntEnv,\n",
    "    max_episode_steps=256,\n",
    "    reward_threshold=-3.75,\n",
    ")\n",
    "\n",
    "env = make_online_env(\"myant\", default_ind=2)\n",
    "env.reset()"
   ]
  },
  {
   "cell_type": "code",
   "execution_count": 31,
   "metadata": {},
   "outputs": [],
   "source": [
    "import numpy as np\n",
    "\n",
    "selected_keys = [\"observations\", \"next_observations\", \"actions\", \"done\", \"reward\"]\n",
    "data = np.load(\"/home/m_bobrin/ZeroShotRL/envs/mujoco/data_custom_ant/default_ind_0.npz\", allow_pickle=True)\n",
    "data = {key: data[key] for key in selected_keys if key in data.files}\n",
    "\n",
    "# data1 = np.load(\"/home/m_bobrin/ZeroShotRL/envs/mujoco/data_custom_ant/default_ind10.npz\", allow_pickle=True)\n",
    "# data1 = {key: data1[key] for key in selected_keys if key in data1.files}"
   ]
  },
  {
   "cell_type": "code",
   "execution_count": 27,
   "metadata": {},
   "outputs": [],
   "source": [
    "import jax\n",
    "import jax.numpy as jnp\n",
    "test_d = jax.tree.map(lambda x, y: jnp.concatenate([x, y], axis=0), data, data1)"
   ]
  },
  {
   "cell_type": "code",
   "execution_count": 28,
   "metadata": {},
   "outputs": [
    {
     "data": {
      "text/plain": [
       "{'action': (20, 256, 8), 'done': (20, 256), 'reward': (20, 256)}"
      ]
     },
     "execution_count": 28,
     "metadata": {},
     "output_type": "execute_result"
    }
   ],
   "source": [
    "jax.tree.map(lambda x: x.shape, test_d)"
   ]
  },
  {
   "cell_type": "code",
   "execution_count": null,
   "metadata": {},
   "outputs": [],
   "source": []
  }
 ],
 "metadata": {
  "kernelspec": {
   "display_name": "jax2",
   "language": "python",
   "name": "python3"
  },
  "language_info": {
   "codemirror_mode": {
    "name": "ipython",
    "version": 3
   },
   "file_extension": ".py",
   "mimetype": "text/x-python",
   "name": "python",
   "nbconvert_exporter": "python",
   "pygments_lexer": "ipython3",
   "version": "3.10.16"
  }
 },
 "nbformat": 4,
 "nbformat_minor": 2
}
