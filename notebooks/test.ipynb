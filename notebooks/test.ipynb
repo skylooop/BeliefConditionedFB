{
 "cells": [
  {
   "cell_type": "code",
   "execution_count": 35,
   "metadata": {},
   "outputs": [],
   "source": [
    "# MISC\n",
    "import os\n",
    "import sys\n",
    "\n",
    "sys.path.append(\"..\")\n",
    "os.environ['MUJOCO_GL']='egl'\n",
    "os.environ['CUDA_VISIBLE_DEVICES']='0'\n",
    "\n",
    "# import shutup\n",
    "# shutup.please()\n",
    "\n",
    "import jax\n",
    "import jax.numpy as jnp\n",
    "\n",
    "import numpy as np\n",
    "from functools import partial\n",
    "\n",
    "# VIS\n",
    "import matplotlib.pyplot as plt\n",
    "import mediapy\n",
    "import scienceplots\n",
    "from rich.pretty import pprint\n",
    "from tqdm.auto import tqdm\n",
    "\n",
    "from utils.datasets import GCDataset\n",
    "from agents.dynamics_aware_iql import GCIQLAgent\n",
    "from hydra import initialize, compose\n",
    "from omegaconf import OmegaConf\n",
    "\n",
    "plt.style.use(['seaborn-v0_8-colorblind', 'seaborn-v0_8-notebook'])\n",
    "\n",
    "GLOBAL_KEY = jax.random.key(42)"
   ]
  },
  {
   "cell_type": "code",
   "execution_count": null,
   "metadata": {},
   "outputs": [],
   "source": []
  }
 ],
 "metadata": {
  "kernelspec": {
   "display_name": "jax2",
   "language": "python",
   "name": "python3"
  },
  "language_info": {
   "codemirror_mode": {
    "name": "ipython",
    "version": 3
   },
   "file_extension": ".py",
   "mimetype": "text/x-python",
   "name": "python",
   "nbconvert_exporter": "python",
   "pygments_lexer": "ipython3",
   "version": "3.10.16"
  }
 },
 "nbformat": 4,
 "nbformat_minor": 2
}
